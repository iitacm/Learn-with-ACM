{
 "cells": [
  {
   "cell_type": "markdown",
   "metadata": {},
   "source": [
    "# 🏆 Welcome to the Challenge - Day 1\n",
    "\n",
    "Welcome to **Day 1** of the Daily Challenge! 🚀 Today, we are starting with **Easy** problems to build a strong foundation.  \n",
    "\n",
    "📢 **Goal:** Solve these 3 problems in **one hour** (20 minutes per problem). If you solve them, great! 🎉 If not, **learn the approach and try again!** 💪  \n",
    "\n",
    "Think it as your technical interview and try to put some explanation comments or make a **Note** for your solution explanation. \n",
    "\n",
    "---\n",
    "\n",
    "\n",
    "## 🔹 Problem 1: [Move Zeros](https://leetcode.com/problems/move-zeroes/description/)  \n",
    "\n",
    "## 🔹 Problem 1: [Valid Parenthese](https://leetcode.com/problems/valid-parentheses/description/)  \n",
    "\n",
    "## 🔹 Problem 1: [Binary Tree Paths](https://leetcode.com/problems/binary-tree-paths/description/)  "
   ]
  }
 ],
 "metadata": {
  "language_info": {
   "name": "python"
  }
 },
 "nbformat": 4,
 "nbformat_minor": 2
}
