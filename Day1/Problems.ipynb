{
 "cells": [
  {
   "cell_type": "markdown",
   "metadata": {},
   "source": [
    "#Welcome to Learn with ACM Day 1"
   ]
  },
  {
   "cell_type": "markdown",
   "metadata": {},
   "source": [
    "###Solve the following Leetcode problems by following the link to Leetcode. This is a everyday practice session and will contain different topics randomnly so think of this as your technical interview and without knowing what type of problem,analyze on your own to distinguish what algorithm to use. We will start from easy for the first day and make it step by step harder. Give yourself one hour everyday which is 20 minutes per problem to solve. If you solved it Congrats, you pass today's challenge. But if you cannot solve it dont't worry you are goona learn and be prepared for your interview. "
   ]
  }
 ],
 "metadata": {
  "language_info": {
   "name": "python"
  }
 },
 "nbformat": 4,
 "nbformat_minor": 2
}
